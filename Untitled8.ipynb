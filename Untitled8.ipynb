{
 "cells": [
  {
   "cell_type": "raw",
   "id": "57fcc6e5",
   "metadata": {},
   "source": [
    "1. In the below elements which of them are values or an expression? eg:- values can be integer or string and expressions will be mathematical operators.\n",
    "* = Arithematic operator\n",
    "'hello'=string\n",
    "-87.8=float\n",
    "- = Arithematic operator\n",
    "/ = Arithematic operator\n",
    "+ =\tArithematic operator\n",
    "6 = integer"
   ]
  },
  {
   "cell_type": "raw",
   "id": "42d000af",
   "metadata": {},
   "source": [
    "2. What is the difference between string and variable?\n",
    "string is the character\n",
    "variable is used to store data that means we can store string, float, integers etc"
   ]
  },
  {
   "cell_type": "raw",
   "id": "60695159",
   "metadata": {},
   "source": [
    "3.Describe three different data types.\n",
    "String is a character. ex:\"vinay\"\n",
    "Numeric is may be integer or float. ex:integer=34,float=45.5\n",
    "Bolean is datatype of yes or no. ex:True or False"
   ]
  },
  {
   "cell_type": "raw",
   "id": "f0409dbb",
   "metadata": {},
   "source": [
    "4. What is an expression made up of? What do all expressions do?\n",
    "Expressions are mathematical or arithematic operator. They do mathematical operations like addition, substraction, multiplication, devision, less than, equals etc."
   ]
  },
  {
   "cell_type": "raw",
   "id": "29a589ed",
   "metadata": {},
   "source": [
    "5. This assignment statements, like spam = 10. What is the difference between an expression and a statement?\n",
    "The difference is that a statement is a complete line of code that performs some action, while an expression is any section of the code that evaluates to a value."
   ]
  },
  {
   "cell_type": "raw",
   "id": "0d19dc99",
   "metadata": {},
   "source": [
    "6. After running the following code, what does the variable bacon contain?\n",
    "bacon = 22\n",
    "bacon + 1\n",
    "Answer is Bacon =22"
   ]
  },
  {
   "cell_type": "raw",
   "id": "cb543d13",
   "metadata": {},
   "source": [
    "7. What should the values of the following two terms be?\n",
    "'spam' + 'spamspam'\n",
    "'spam' * 3\n",
    "Answer is \"spamspamspam\" for both."
   ]
  },
  {
   "cell_type": "raw",
   "id": "c02f0d5b",
   "metadata": {},
   "source": [
    "8. Why is eggs a valid variable name while 100 is invalid?\n",
    "variable name should not be starts with numeric value like 1egg but it can starts with underscore or alphbates. "
   ]
  },
  {
   "cell_type": "raw",
   "id": "ba3f1a80",
   "metadata": {},
   "source": [
    "9. What three functions can be used to get the integer, floating-point number, or string version of a value?\n",
    "int(), float() and str()"
   ]
  },
  {
   "cell_type": "raw",
   "id": "2a3ee60a",
   "metadata": {},
   "source": [
    "10. Why does this expression cause an error? How can you fix it?\n",
    "'I have eaten ' + 99 + ' burritos.'\n",
    "Different types of datatypes or structure. Convert all to string type like 'I have eaten ' + '99' + ' burritos.'"
   ]
  }
 ],
 "metadata": {
  "kernelspec": {
   "display_name": "Python 3 (ipykernel)",
   "language": "python",
   "name": "python3"
  },
  "language_info": {
   "codemirror_mode": {
    "name": "ipython",
    "version": 3
   },
   "file_extension": ".py",
   "mimetype": "text/x-python",
   "name": "python",
   "nbconvert_exporter": "python",
   "pygments_lexer": "ipython3",
   "version": "3.9.7"
  }
 },
 "nbformat": 4,
 "nbformat_minor": 5
}
